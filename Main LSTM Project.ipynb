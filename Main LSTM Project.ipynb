{
 "cells": [
  {
   "cell_type": "markdown",
   "id": "1847f374",
   "metadata": {},
   "source": [
    "# RNN & LTSM Tesla Stock Prediction"
   ]
  },
  {
   "cell_type": "code",
   "execution_count": 1,
   "id": "673a42c5",
   "metadata": {
    "tags": [
     "hide-cell"
    ]
   },
   "outputs": [
    {
     "data": {
      "text/html": [
       "<div>\n",
       "<style scoped>\n",
       "    .dataframe tbody tr th:only-of-type {\n",
       "        vertical-align: middle;\n",
       "    }\n",
       "\n",
       "    .dataframe tbody tr th {\n",
       "        vertical-align: top;\n",
       "    }\n",
       "\n",
       "    .dataframe thead th {\n",
       "        text-align: right;\n",
       "    }\n",
       "</style>\n",
       "<table border=\"1\" class=\"dataframe\">\n",
       "  <thead>\n",
       "    <tr style=\"text-align: right;\">\n",
       "      <th></th>\n",
       "      <th>Date</th>\n",
       "      <th>Open</th>\n",
       "      <th>High</th>\n",
       "      <th>Low</th>\n",
       "      <th>Close</th>\n",
       "      <th>Adj Close</th>\n",
       "      <th>Volume</th>\n",
       "    </tr>\n",
       "  </thead>\n",
       "  <tbody>\n",
       "    <tr>\n",
       "      <th>0</th>\n",
       "      <td>2020-10-28</td>\n",
       "      <td>416.480011</td>\n",
       "      <td>418.600006</td>\n",
       "      <td>406.000000</td>\n",
       "      <td>406.019989</td>\n",
       "      <td>406.019989</td>\n",
       "      <td>25451400</td>\n",
       "    </tr>\n",
       "    <tr>\n",
       "      <th>1</th>\n",
       "      <td>2020-10-29</td>\n",
       "      <td>409.959991</td>\n",
       "      <td>418.059998</td>\n",
       "      <td>406.459991</td>\n",
       "      <td>410.829987</td>\n",
       "      <td>410.829987</td>\n",
       "      <td>22655300</td>\n",
       "    </tr>\n",
       "    <tr>\n",
       "      <th>2</th>\n",
       "      <td>2020-10-30</td>\n",
       "      <td>406.899994</td>\n",
       "      <td>407.589996</td>\n",
       "      <td>379.109985</td>\n",
       "      <td>388.040009</td>\n",
       "      <td>388.040009</td>\n",
       "      <td>42511300</td>\n",
       "    </tr>\n",
       "    <tr>\n",
       "      <th>3</th>\n",
       "      <td>2020-11-02</td>\n",
       "      <td>394.000000</td>\n",
       "      <td>406.980011</td>\n",
       "      <td>392.299988</td>\n",
       "      <td>400.510010</td>\n",
       "      <td>400.510010</td>\n",
       "      <td>29021100</td>\n",
       "    </tr>\n",
       "    <tr>\n",
       "      <th>4</th>\n",
       "      <td>2020-11-03</td>\n",
       "      <td>409.730011</td>\n",
       "      <td>427.769989</td>\n",
       "      <td>406.690002</td>\n",
       "      <td>423.899994</td>\n",
       "      <td>423.899994</td>\n",
       "      <td>34351700</td>\n",
       "    </tr>\n",
       "    <tr>\n",
       "      <th>...</th>\n",
       "      <td>...</td>\n",
       "      <td>...</td>\n",
       "      <td>...</td>\n",
       "      <td>...</td>\n",
       "      <td>...</td>\n",
       "      <td>...</td>\n",
       "      <td>...</td>\n",
       "    </tr>\n",
       "    <tr>\n",
       "      <th>248</th>\n",
       "      <td>2021-10-22</td>\n",
       "      <td>895.500000</td>\n",
       "      <td>910.000000</td>\n",
       "      <td>890.960022</td>\n",
       "      <td>909.679993</td>\n",
       "      <td>909.679993</td>\n",
       "      <td>22836800</td>\n",
       "    </tr>\n",
       "    <tr>\n",
       "      <th>249</th>\n",
       "      <td>2021-10-25</td>\n",
       "      <td>950.530029</td>\n",
       "      <td>1045.020020</td>\n",
       "      <td>944.200012</td>\n",
       "      <td>1024.859985</td>\n",
       "      <td>1024.859985</td>\n",
       "      <td>62852100</td>\n",
       "    </tr>\n",
       "    <tr>\n",
       "      <th>250</th>\n",
       "      <td>2021-10-26</td>\n",
       "      <td>1024.689941</td>\n",
       "      <td>1094.939941</td>\n",
       "      <td>1001.440002</td>\n",
       "      <td>1018.429993</td>\n",
       "      <td>1018.429993</td>\n",
       "      <td>62415000</td>\n",
       "    </tr>\n",
       "    <tr>\n",
       "      <th>251</th>\n",
       "      <td>2021-10-27</td>\n",
       "      <td>1039.660034</td>\n",
       "      <td>1070.880005</td>\n",
       "      <td>1030.780029</td>\n",
       "      <td>1037.859985</td>\n",
       "      <td>1037.859985</td>\n",
       "      <td>38167800</td>\n",
       "    </tr>\n",
       "    <tr>\n",
       "      <th>252</th>\n",
       "      <td>2021-10-28</td>\n",
       "      <td>1068.310059</td>\n",
       "      <td>1081.000000</td>\n",
       "      <td>1054.380005</td>\n",
       "      <td>1069.849976</td>\n",
       "      <td>1069.849976</td>\n",
       "      <td>23931895</td>\n",
       "    </tr>\n",
       "  </tbody>\n",
       "</table>\n",
       "<p>253 rows × 7 columns</p>\n",
       "</div>"
      ],
      "text/plain": [
       "           Date         Open         High          Low        Close  \\\n",
       "0    2020-10-28   416.480011   418.600006   406.000000   406.019989   \n",
       "1    2020-10-29   409.959991   418.059998   406.459991   410.829987   \n",
       "2    2020-10-30   406.899994   407.589996   379.109985   388.040009   \n",
       "3    2020-11-02   394.000000   406.980011   392.299988   400.510010   \n",
       "4    2020-11-03   409.730011   427.769989   406.690002   423.899994   \n",
       "..          ...          ...          ...          ...          ...   \n",
       "248  2021-10-22   895.500000   910.000000   890.960022   909.679993   \n",
       "249  2021-10-25   950.530029  1045.020020   944.200012  1024.859985   \n",
       "250  2021-10-26  1024.689941  1094.939941  1001.440002  1018.429993   \n",
       "251  2021-10-27  1039.660034  1070.880005  1030.780029  1037.859985   \n",
       "252  2021-10-28  1068.310059  1081.000000  1054.380005  1069.849976   \n",
       "\n",
       "       Adj Close    Volume  \n",
       "0     406.019989  25451400  \n",
       "1     410.829987  22655300  \n",
       "2     388.040009  42511300  \n",
       "3     400.510010  29021100  \n",
       "4     423.899994  34351700  \n",
       "..           ...       ...  \n",
       "248   909.679993  22836800  \n",
       "249  1024.859985  62852100  \n",
       "250  1018.429993  62415000  \n",
       "251  1037.859985  38167800  \n",
       "252  1069.849976  23931895  \n",
       "\n",
       "[253 rows x 7 columns]"
      ]
     },
     "execution_count": 1,
     "metadata": {},
     "output_type": "execute_result"
    }
   ],
   "source": [
    "import pandas as pd\n",
    "import warnings\n",
    "warnings.filterwarnings('ignore')\n",
    "\n",
    "df = pd.read_csv('TSLA.csv')\n",
    "df"
   ]
  },
  {
   "cell_type": "code",
   "execution_count": 2,
   "id": "d7f0e8ab",
   "metadata": {
    "slideshow": {
     "slide_type": "skip"
    },
    "tags": []
   },
   "outputs": [
    {
     "name": "stdout",
     "output_type": "stream",
     "text": [
      "<class 'pandas.core.frame.DataFrame'>\n",
      "RangeIndex: 253 entries, 0 to 252\n",
      "Data columns (total 7 columns):\n",
      " #   Column     Non-Null Count  Dtype  \n",
      "---  ------     --------------  -----  \n",
      " 0   Date       253 non-null    object \n",
      " 1   Open       253 non-null    float64\n",
      " 2   High       253 non-null    float64\n",
      " 3   Low        253 non-null    float64\n",
      " 4   Close      253 non-null    float64\n",
      " 5   Adj Close  253 non-null    float64\n",
      " 6   Volume     253 non-null    int64  \n",
      "dtypes: float64(5), int64(1), object(1)\n",
      "memory usage: 14.0+ KB\n"
     ]
    }
   ],
   "source": [
    "df.info()"
   ]
  },
  {
   "cell_type": "code",
   "execution_count": 3,
   "id": "da7317ca",
   "metadata": {
    "tags": []
   },
   "outputs": [
    {
     "data": {
      "text/plain": [
       "0     2020-10-28\n",
       "1     2020-10-29\n",
       "2     2020-10-30\n",
       "3     2020-11-02\n",
       "4     2020-11-03\n",
       "         ...    \n",
       "247   2021-10-21\n",
       "248   2021-10-22\n",
       "249   2021-10-25\n",
       "250   2021-10-26\n",
       "251   2021-10-27\n",
       "Name: Date, Length: 252, dtype: datetime64[ns]"
      ]
     },
     "execution_count": 3,
     "metadata": {},
     "output_type": "execute_result"
    }
   ],
   "source": [
    "train_dates = pd.to_datetime(df['Date'])[:-1]\n",
    "train_dates"
   ]
  },
  {
   "cell_type": "code",
   "execution_count": 4,
   "id": "8f151cef",
   "metadata": {
    "tags": []
   },
   "outputs": [
    {
     "data": {
      "text/html": [
       "<div>\n",
       "<style scoped>\n",
       "    .dataframe tbody tr th:only-of-type {\n",
       "        vertical-align: middle;\n",
       "    }\n",
       "\n",
       "    .dataframe tbody tr th {\n",
       "        vertical-align: top;\n",
       "    }\n",
       "\n",
       "    .dataframe thead th {\n",
       "        text-align: right;\n",
       "    }\n",
       "</style>\n",
       "<table border=\"1\" class=\"dataframe\">\n",
       "  <thead>\n",
       "    <tr style=\"text-align: right;\">\n",
       "      <th></th>\n",
       "      <th>Open</th>\n",
       "      <th>High</th>\n",
       "      <th>Low</th>\n",
       "      <th>Close</th>\n",
       "      <th>Adj Close</th>\n",
       "      <th>Volume</th>\n",
       "    </tr>\n",
       "  </thead>\n",
       "  <tbody>\n",
       "    <tr>\n",
       "      <th>0</th>\n",
       "      <td>416.480011</td>\n",
       "      <td>418.600006</td>\n",
       "      <td>406.000000</td>\n",
       "      <td>406.019989</td>\n",
       "      <td>406.019989</td>\n",
       "      <td>25451400</td>\n",
       "    </tr>\n",
       "    <tr>\n",
       "      <th>1</th>\n",
       "      <td>409.959991</td>\n",
       "      <td>418.059998</td>\n",
       "      <td>406.459991</td>\n",
       "      <td>410.829987</td>\n",
       "      <td>410.829987</td>\n",
       "      <td>22655300</td>\n",
       "    </tr>\n",
       "    <tr>\n",
       "      <th>2</th>\n",
       "      <td>406.899994</td>\n",
       "      <td>407.589996</td>\n",
       "      <td>379.109985</td>\n",
       "      <td>388.040009</td>\n",
       "      <td>388.040009</td>\n",
       "      <td>42511300</td>\n",
       "    </tr>\n",
       "    <tr>\n",
       "      <th>3</th>\n",
       "      <td>394.000000</td>\n",
       "      <td>406.980011</td>\n",
       "      <td>392.299988</td>\n",
       "      <td>400.510010</td>\n",
       "      <td>400.510010</td>\n",
       "      <td>29021100</td>\n",
       "    </tr>\n",
       "    <tr>\n",
       "      <th>4</th>\n",
       "      <td>409.730011</td>\n",
       "      <td>427.769989</td>\n",
       "      <td>406.690002</td>\n",
       "      <td>423.899994</td>\n",
       "      <td>423.899994</td>\n",
       "      <td>34351700</td>\n",
       "    </tr>\n",
       "    <tr>\n",
       "      <th>...</th>\n",
       "      <td>...</td>\n",
       "      <td>...</td>\n",
       "      <td>...</td>\n",
       "      <td>...</td>\n",
       "      <td>...</td>\n",
       "      <td>...</td>\n",
       "    </tr>\n",
       "    <tr>\n",
       "      <th>247</th>\n",
       "      <td>856.000000</td>\n",
       "      <td>900.000000</td>\n",
       "      <td>855.500000</td>\n",
       "      <td>894.000000</td>\n",
       "      <td>894.000000</td>\n",
       "      <td>31481500</td>\n",
       "    </tr>\n",
       "    <tr>\n",
       "      <th>248</th>\n",
       "      <td>895.500000</td>\n",
       "      <td>910.000000</td>\n",
       "      <td>890.960022</td>\n",
       "      <td>909.679993</td>\n",
       "      <td>909.679993</td>\n",
       "      <td>22836800</td>\n",
       "    </tr>\n",
       "    <tr>\n",
       "      <th>249</th>\n",
       "      <td>950.530029</td>\n",
       "      <td>1045.020020</td>\n",
       "      <td>944.200012</td>\n",
       "      <td>1024.859985</td>\n",
       "      <td>1024.859985</td>\n",
       "      <td>62852100</td>\n",
       "    </tr>\n",
       "    <tr>\n",
       "      <th>250</th>\n",
       "      <td>1024.689941</td>\n",
       "      <td>1094.939941</td>\n",
       "      <td>1001.440002</td>\n",
       "      <td>1018.429993</td>\n",
       "      <td>1018.429993</td>\n",
       "      <td>62415000</td>\n",
       "    </tr>\n",
       "    <tr>\n",
       "      <th>251</th>\n",
       "      <td>1039.660034</td>\n",
       "      <td>1070.880005</td>\n",
       "      <td>1030.780029</td>\n",
       "      <td>1037.859985</td>\n",
       "      <td>1037.859985</td>\n",
       "      <td>38167800</td>\n",
       "    </tr>\n",
       "  </tbody>\n",
       "</table>\n",
       "<p>252 rows × 6 columns</p>\n",
       "</div>"
      ],
      "text/plain": [
       "            Open         High          Low        Close    Adj Close    Volume\n",
       "0     416.480011   418.600006   406.000000   406.019989   406.019989  25451400\n",
       "1     409.959991   418.059998   406.459991   410.829987   410.829987  22655300\n",
       "2     406.899994   407.589996   379.109985   388.040009   388.040009  42511300\n",
       "3     394.000000   406.980011   392.299988   400.510010   400.510010  29021100\n",
       "4     409.730011   427.769989   406.690002   423.899994   423.899994  34351700\n",
       "..           ...          ...          ...          ...          ...       ...\n",
       "247   856.000000   900.000000   855.500000   894.000000   894.000000  31481500\n",
       "248   895.500000   910.000000   890.960022   909.679993   909.679993  22836800\n",
       "249   950.530029  1045.020020   944.200012  1024.859985  1024.859985  62852100\n",
       "250  1024.689941  1094.939941  1001.440002  1018.429993  1018.429993  62415000\n",
       "251  1039.660034  1070.880005  1030.780029  1037.859985  1037.859985  38167800\n",
       "\n",
       "[252 rows x 6 columns]"
      ]
     },
     "execution_count": 4,
     "metadata": {},
     "output_type": "execute_result"
    }
   ],
   "source": [
    "X_data = df.iloc[:-1,1:]\n",
    "X_data"
   ]
  },
  {
   "cell_type": "code",
   "execution_count": 5,
   "id": "45f81080",
   "metadata": {
    "tags": []
   },
   "outputs": [
    {
     "data": {
      "text/html": [
       "<div>\n",
       "<style scoped>\n",
       "    .dataframe tbody tr th:only-of-type {\n",
       "        vertical-align: middle;\n",
       "    }\n",
       "\n",
       "    .dataframe tbody tr th {\n",
       "        vertical-align: top;\n",
       "    }\n",
       "\n",
       "    .dataframe thead th {\n",
       "        text-align: right;\n",
       "    }\n",
       "</style>\n",
       "<table border=\"1\" class=\"dataframe\">\n",
       "  <thead>\n",
       "    <tr style=\"text-align: right;\">\n",
       "      <th></th>\n",
       "      <th>Close</th>\n",
       "    </tr>\n",
       "  </thead>\n",
       "  <tbody>\n",
       "    <tr>\n",
       "      <th>0</th>\n",
       "      <td>410.829987</td>\n",
       "    </tr>\n",
       "    <tr>\n",
       "      <th>1</th>\n",
       "      <td>388.040009</td>\n",
       "    </tr>\n",
       "    <tr>\n",
       "      <th>2</th>\n",
       "      <td>400.510010</td>\n",
       "    </tr>\n",
       "    <tr>\n",
       "      <th>3</th>\n",
       "      <td>423.899994</td>\n",
       "    </tr>\n",
       "    <tr>\n",
       "      <th>4</th>\n",
       "      <td>420.980011</td>\n",
       "    </tr>\n",
       "    <tr>\n",
       "      <th>...</th>\n",
       "      <td>...</td>\n",
       "    </tr>\n",
       "    <tr>\n",
       "      <th>247</th>\n",
       "      <td>909.679993</td>\n",
       "    </tr>\n",
       "    <tr>\n",
       "      <th>248</th>\n",
       "      <td>1024.859985</td>\n",
       "    </tr>\n",
       "    <tr>\n",
       "      <th>249</th>\n",
       "      <td>1018.429993</td>\n",
       "    </tr>\n",
       "    <tr>\n",
       "      <th>250</th>\n",
       "      <td>1037.859985</td>\n",
       "    </tr>\n",
       "    <tr>\n",
       "      <th>251</th>\n",
       "      <td>1069.849976</td>\n",
       "    </tr>\n",
       "  </tbody>\n",
       "</table>\n",
       "<p>252 rows × 1 columns</p>\n",
       "</div>"
      ],
      "text/plain": [
       "           Close\n",
       "0     410.829987\n",
       "1     388.040009\n",
       "2     400.510010\n",
       "3     423.899994\n",
       "4     420.980011\n",
       "..           ...\n",
       "247   909.679993\n",
       "248  1024.859985\n",
       "249  1018.429993\n",
       "250  1037.859985\n",
       "251  1069.849976\n",
       "\n",
       "[252 rows x 1 columns]"
      ]
     },
     "execution_count": 5,
     "metadata": {},
     "output_type": "execute_result"
    }
   ],
   "source": [
    "y_data = df[['Close']].shift(-1)[:-1] # Next Day Closing\n",
    "y_data"
   ]
  },
  {
   "cell_type": "code",
   "execution_count": 6,
   "id": "5b2ee52d",
   "metadata": {
    "tags": []
   },
   "outputs": [
    {
     "data": {
      "text/plain": [
       "0       418.600006\n",
       "1       418.059998\n",
       "2       407.589996\n",
       "3       406.980011\n",
       "4       427.769989\n",
       "          ...     \n",
       "247     900.000000\n",
       "248     910.000000\n",
       "249    1045.020020\n",
       "250    1094.939941\n",
       "251    1070.880005\n",
       "Name: High, Length: 252, dtype: float64"
      ]
     },
     "execution_count": 6,
     "metadata": {},
     "output_type": "execute_result"
    }
   ],
   "source": [
    "X_data.iloc[:,1]"
   ]
  },
  {
   "cell_type": "code",
   "execution_count": 7,
   "id": "34e323ad",
   "metadata": {
    "tags": []
   },
   "outputs": [],
   "source": [
    "from sklearn.preprocessing import StandardScaler\n",
    "\n",
    "scale_X = StandardScaler().fit(X_data).transform(X_data)"
   ]
  },
  {
   "cell_type": "code",
   "execution_count": 8,
   "id": "4287b3fc",
   "metadata": {
    "tags": []
   },
   "outputs": [
    {
     "data": {
      "text/plain": [
       "(252, 252)"
      ]
     },
     "execution_count": 8,
     "metadata": {},
     "output_type": "execute_result"
    }
   ],
   "source": [
    "len(scale_X),len(y_data)"
   ]
  },
  {
   "cell_type": "code",
   "execution_count": 9,
   "id": "f9329bdc",
   "metadata": {
    "tags": []
   },
   "outputs": [],
   "source": [
    "import numpy as np\n",
    "from keras.preprocessing.sequence import TimeseriesGenerator\n",
    "\n",
    "target_y = y_data.to_numpy().reshape(1,-1)[0]\n",
    "\n",
    "n_input = 20\n",
    "n_features = 5\n",
    "generator = TimeseriesGenerator(scale_X,target_y,length=5, sampling_rate=1,batch_size=1)"
   ]
  },
  {
   "cell_type": "code",
   "execution_count": 10,
   "id": "1f6e36cf",
   "metadata": {
    "tags": []
   },
   "outputs": [
    {
     "data": {
      "text/plain": [
       "247"
      ]
     },
     "execution_count": 10,
     "metadata": {},
     "output_type": "execute_result"
    }
   ],
   "source": [
    "len(generator)"
   ]
  },
  {
   "cell_type": "code",
   "execution_count": 11,
   "id": "c9c021d9",
   "metadata": {
    "tags": []
   },
   "outputs": [
    {
     "name": "stdout",
     "output_type": "stream",
     "text": [
      "Epoch 1/5\n",
      "247/247 [==============================] - 2s 2ms/step - loss: 315990.8750\n",
      "Epoch 2/5\n",
      "247/247 [==============================] - 0s 2ms/step - loss: 45974.2227A: 0s - loss: 7921\n",
      "Epoch 3/5\n",
      "247/247 [==============================] - 0s 2ms/step - loss: 9814.2734\n",
      "Epoch 4/5\n",
      "247/247 [==============================] - 0s 2ms/step - loss: 5379.9272: 0s - los\n",
      "Epoch 5/5\n",
      "247/247 [==============================] - 0s 2ms/step - loss: 4606.8638: 0s - los\n"
     ]
    },
    {
     "data": {
      "text/plain": [
       "<keras.callbacks.History at 0x241d26388e0>"
      ]
     },
     "execution_count": 11,
     "metadata": {},
     "output_type": "execute_result"
    }
   ],
   "source": [
    "from tensorflow.keras.models import Sequential\n",
    "from tensorflow.keras.layers import LSTM\n",
    "from tensorflow.keras.layers import Dense, Dropout\n",
    "\n",
    "model = Sequential()\n",
    "model.add(LSTM(64, activation='relu', input_shape=(5,6), return_sequences=True))\n",
    "model.add(LSTM(32, activation='relu', return_sequences=False))\n",
    "model.add(Dense(1))\n",
    "model.compile(optimizer='adam', loss=\"mse\")\n",
    "model.fit(generator, epochs=5, batch_size=1, verbose=1)"
   ]
  },
  {
   "cell_type": "code",
   "execution_count": 12,
   "id": "31dcaa91",
   "metadata": {
    "tags": []
   },
   "outputs": [],
   "source": [
    "LSTMyhat = model.predict(generator).ravel()"
   ]
  },
  {
   "cell_type": "code",
   "execution_count": 13,
   "id": "00e0bb7b",
   "metadata": {
    "tags": []
   },
   "outputs": [
    {
     "data": {
      "image/png": "[encoded data removed]",
      "text/plain": [
       "<Figure size 432x288 with 1 Axes>"
      ]
     },
     "metadata": {
      "needs_background": "light"
     },
     "output_type": "display_data"
    },
    {
     "name": "stdout",
     "output_type": "stream",
     "text": [
      "Model: \"sequential\"\n",
      "_________________________________________________________________\n",
      "Layer (type)                 Output Shape              Param #   \n",
      "=================================================================\n",
      "lstm (LSTM)                  (None, 5, 64)             18176     \n",
      "_________________________________________________________________\n",
      "lstm_1 (LSTM)                (None, 32)                12416     \n",
      "_________________________________________________________________\n",
      "dense (Dense)                (None, 1)                 33        \n",
      "=================================================================\n",
      "Total params: 30,625\n",
      "Trainable params: 30,625\n",
      "Non-trainable params: 0\n",
      "_________________________________________________________________\n"
     ]
    }
   ],
   "source": [
    "import matplotlib.pyplot as plt\n",
    "\n",
    "plt.plot(train_dates,df['Close'][:-1], color='b',label='Actual')\n",
    "plt.plot(train_dates[(252-247):],LSTMyhat, color='r',label='Predict')\n",
    "plt.legend()\n",
    "plt.title('LSTM')\n",
    "plt.ylabel('$ Price')\n",
    "plt.xlabel('Date')\n",
    "plt.show()\n",
    "model.summary()"
   ]
  },
  {
   "cell_type": "code",
   "execution_count": 14,
   "id": "040ec19b",
   "metadata": {
    "tags": []
   },
   "outputs": [
    {
     "data": {
      "image/png": "[encoded data removed]",
      "text/plain": [
       "<Figure size 432x288 with 1 Axes>"
      ]
     },
     "metadata": {
      "needs_background": "light"
     },
     "output_type": "display_data"
    },
    {
     "name": "stdout",
     "output_type": "stream",
     "text": [
      "Model: \"sequential_1\"\n",
      "_________________________________________________________________\n",
      "Layer (type)                 Output Shape              Param #   \n",
      "=================================================================\n",
      "simple_rnn (SimpleRNN)       (None, 5, 64)             4544      \n",
      "_________________________________________________________________\n",
      "simple_rnn_1 (SimpleRNN)     (None, 32)                3104      \n",
      "_________________________________________________________________\n",
      "dense_1 (Dense)              (None, 1)                 33        \n",
      "=================================================================\n",
      "Total params: 7,681\n",
      "Trainable params: 7,681\n",
      "Non-trainable params: 0\n",
      "_________________________________________________________________\n"
     ]
    }
   ],
   "source": [
    "from tensorflow.keras.layers import SimpleRNN\n",
    "\n",
    "model2 = Sequential()\n",
    "model2.add(SimpleRNN(64, activation='relu', input_shape=(5,6), return_sequences=True))\n",
    "model2.add(SimpleRNN(32, activation='relu', return_sequences=False))\n",
    "model2.add(Dense(1))\n",
    "model2.compile(optimizer='adam', loss=\"mse\")\n",
    "model2.fit(generator, epochs=50, batch_size=1, verbose=0)\n",
    "\n",
    "yhat = model2.predict(generator).ravel()\n",
    "\n",
    "plt.plot(train_dates,df['Close'][:-1], color='b',label='Actual')\n",
    "plt.plot(train_dates[(252-247):],yhat, color='r',label='Predict')\n",
    "plt.legend()\n",
    "plt.title('RNN')\n",
    "plt.ylabel('$ Price')\n",
    "plt.xlabel('Date')\n",
    "plt.show()\n",
    "model2.summary()"
   ]
  },
  {
   "cell_type": "markdown",
   "id": "973fb74f",
   "metadata": {},
   "source": [
    "Surprisingly, the simple Recurrent Neural Network actually performs better than Long Short Term Memory in this exploration project. I believe the reason, is because LTSM tends to overfit the data, causing the model to be overly sensitive. The simple RNN gives a more general solution to this problem, which ultimately gives better performance."
   ]
  }
 ],
 "metadata": {
  "kernelspec": {
   "display_name": "Python 3",
   "language": "python",
   "name": "python3"
  },
  "language_info": {
   "codemirror_mode": {
    "name": "ipython",
    "version": 3
   },
   "file_extension": ".py",
   "mimetype": "text/x-python",
   "name": "python",
   "nbconvert_exporter": "python",
   "pygments_lexer": "ipython3",
   "version": "3.8.5"
  },
  "toc-autonumbering": false,
  "toc-showcode": false,
  "toc-showmarkdowntxt": true
 },
 "nbformat": 4,
 "nbformat_minor": 5
}
